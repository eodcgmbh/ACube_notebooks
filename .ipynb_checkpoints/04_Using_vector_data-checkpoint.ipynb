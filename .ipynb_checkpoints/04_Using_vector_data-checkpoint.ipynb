{
 "cells": [
  {
   "cell_type": "markdown",
   "metadata": {},
   "source": [
    "# Using vector data\n",
    "\n",
    "<div>\n",
    "    <img style='width: 220px;height: 100px;float: left;' src=\"./Supplementary_data/EODC-Logo-Final.png\" height='130p' width='180p'/>\n",
    "    <img style='width: 200px;height: 100px;float: left;' src=\"./Supplementary_data/BMNT_DE_Logo_dreizeilig_srgb.svg\" height='130p' width='180p'/> \n",
    "    <img style='width: 200px;height: 100px;float: left;' src=\"./Supplementary_data/bmlv.svg\" height='130p' width='180p'/>\n",
    "    <img style='width: 200px;height: 100px;float: left;' src=\"./Supplementary_data/LOGO_TUW_GEO.png\" height='130p' width='180p'/>\n",
    "    <img style='width: 100px;height: 100px;float: left;' src=\"./Supplementary_data/Boku-wien.svg\" height='130p' width='180p'/>\n",
    "    <img style='width: 150px;height: 100px;float: right;' src=\"./Supplementary_data/ADC_Logo_final_transparent.png\" height='130p' width='180p'/>\n",
    "</div>"
   ]
  },
  {
   "cell_type": "code",
   "execution_count": null,
   "metadata": {},
   "outputs": [],
   "source": []
  }
 ],
 "metadata": {
  "kernelspec": {
   "display_name": "Datacube [conda env:datacube]",
   "language": "python",
   "name": "conda-env-datacube-py"
  },
  "language_info": {
   "codemirror_mode": {
    "name": "ipython",
    "version": 3
   },
   "file_extension": ".py",
   "mimetype": "text/x-python",
   "name": "python",
   "nbconvert_exporter": "python",
   "pygments_lexer": "ipython3",
   "version": "3.6.7"
  }
 },
 "nbformat": 4,
 "nbformat_minor": 2
}
