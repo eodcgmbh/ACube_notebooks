{
 "cells": [
  {
   "cell_type": "markdown",
   "metadata": {},
   "source": [
    "# SSM-NOISE Product\n",
    "\n",
    "<div>\n",
    "    <img style='width: 220px;height: 100px;float: left;' src=\"../../Supplementary_data/EODC-Logo-Final.png\" height='100px' width='220px'/>\n",
    "    <img style='width: 200px;height: 100px;float: left;' src=\"../../Supplementary_data/BMNT_DE_Logo_dreizeilig_srgb.svg\" height='100px' width='200px'/> \n",
    "    <img style='width: 200px;height: 100px;float: left;' src=\"../../Supplementary_data/bmlv.svg\" height='100px' width='200px'/>\n",
    "    <img style='width: 200px;height: 100px;float: left;' src=\"../../Supplementary_data/LOGO_TUW_GEO.png\" height='100px' width='200px'/>\n",
    "    <img style='width: 100px;height: 100px;float: left;' src=\"../../Supplementary_data/Boku-wien.svg\" height='100px' width='100px'/>\n",
    "    <img style='width: 150px;height: 100px;float: right;' src=\"../../Supplementary_data/ADC_Logo_final_transparent.png\" height='100px' width='150px'/>\n",
    "</div>"
   ]
  },
  {
   "cell_type": "markdown",
   "metadata": {},
   "source": [
    "This notebook shows the SSM-NOISE product created by TU Wien. This product shows the noise of the relative surface soil moisture estimate\n",
    "\n",
    "The product name in the ACube is `SSMNOISE_Sentinel_1`. It is composed of a single measurement `VV`.\n",
    "\n",
    "Relevant links:\n",
    "* https://austriandatacube.eodc.eu/xwiki/bin/view/2.%20Terminology/3.4.%20data%20processing%20levels/3.4.3.%20Sentinel-1%20products/\n",
    "* https://austriandatacube.eodc.eu/xwiki/bin/view/2.%20Terminology/3.3.%20Datasets/3.4.1.%20Sentinel-1%20data/3.4.1.3.%20Products/3.4.1.3.5.%20Surface%20Soil%20Moisture/"
   ]
  },
  {
   "cell_type": "markdown",
   "metadata": {},
   "source": [
    "## Exploring the product"
   ]
  },
  {
   "cell_type": "markdown",
   "metadata": {},
   "source": [
    "The code below initialises the datacube and lists some metadata of the product, measurements and datasets. We can see that this product has two measurements and a spatial resolution of 500 m. We also list the metadata fields that are available."
   ]
  },
  {
   "cell_type": "code",
   "execution_count": 1,
   "metadata": {},
   "outputs": [],
   "source": [
    "import datacube\n",
    "from pprint import pprint\n",
    "%matplotlib inline\n",
    "dc = datacube.Datacube(app='sample_ssmnoise')\n",
    "product = 'SSMNOISE_Sentinel_1'"
   ]
  },
  {
   "cell_type": "code",
   "execution_count": 2,
   "metadata": {},
   "outputs": [
    {
     "data": {
      "text/html": [
       "<div>\n",
       "<style scoped>\n",
       "    .dataframe tbody tr th:only-of-type {\n",
       "        vertical-align: middle;\n",
       "    }\n",
       "\n",
       "    .dataframe tbody tr th {\n",
       "        vertical-align: top;\n",
       "    }\n",
       "\n",
       "    .dataframe thead th {\n",
       "        text-align: right;\n",
       "    }\n",
       "</style>\n",
       "<table border=\"1\" class=\"dataframe\">\n",
       "  <thead>\n",
       "    <tr style=\"text-align: right;\">\n",
       "      <th></th>\n",
       "      <th>name</th>\n",
       "      <th>description</th>\n",
       "      <th>instrument</th>\n",
       "      <th>product_type</th>\n",
       "      <th>format</th>\n",
       "      <th>platform</th>\n",
       "      <th>crs</th>\n",
       "      <th>resolution</th>\n",
       "      <th>spatial_dimensions</th>\n",
       "    </tr>\n",
       "    <tr>\n",
       "      <th>id</th>\n",
       "      <th></th>\n",
       "      <th></th>\n",
       "      <th></th>\n",
       "      <th></th>\n",
       "      <th></th>\n",
       "      <th></th>\n",
       "      <th></th>\n",
       "      <th></th>\n",
       "      <th></th>\n",
       "    </tr>\n",
       "  </thead>\n",
       "  <tbody>\n",
       "    <tr>\n",
       "      <th>22</th>\n",
       "      <td>SSMNOISE_Sentinel_1</td>\n",
       "      <td>Noise of the relative surface soil moisture es...</td>\n",
       "      <td>SAR</td>\n",
       "      <td>TUW_SSM-NOISE_S1</td>\n",
       "      <td>GeoTIFF</td>\n",
       "      <td>Sentinel-1</td>\n",
       "      <td>PROJCS[\"Azimuthal_Equidistant\",GEOGCS[\"GCS_WGS...</td>\n",
       "      <td>[-500, 500]</td>\n",
       "      <td>(y, x)</td>\n",
       "    </tr>\n",
       "  </tbody>\n",
       "</table>\n",
       "</div>"
      ],
      "text/plain": [
       "                   name                                        description  \\\n",
       "id                                                                           \n",
       "22  SSMNOISE_Sentinel_1  Noise of the relative surface soil moisture es...   \n",
       "\n",
       "   instrument      product_type   format    platform  \\\n",
       "id                                                     \n",
       "22        SAR  TUW_SSM-NOISE_S1  GeoTIFF  Sentinel-1   \n",
       "\n",
       "                                                  crs   resolution  \\\n",
       "id                                                                   \n",
       "22  PROJCS[\"Azimuthal_Equidistant\",GEOGCS[\"GCS_WGS...  [-500, 500]   \n",
       "\n",
       "   spatial_dimensions  \n",
       "id                     \n",
       "22             (y, x)  "
      ]
     },
     "execution_count": 2,
     "metadata": {},
     "output_type": "execute_result"
    }
   ],
   "source": [
    "prodlist=dc.list_products().dropna(axis=1)\n",
    "prodlist[prodlist['name'] == product]"
   ]
  },
  {
   "cell_type": "code",
   "execution_count": 3,
   "metadata": {},
   "outputs": [
    {
     "data": {
      "text/html": [
       "<div>\n",
       "<style scoped>\n",
       "    .dataframe tbody tr th:only-of-type {\n",
       "        vertical-align: middle;\n",
       "    }\n",
       "\n",
       "    .dataframe tbody tr th {\n",
       "        vertical-align: top;\n",
       "    }\n",
       "\n",
       "    .dataframe thead th {\n",
       "        text-align: right;\n",
       "    }\n",
       "</style>\n",
       "<table border=\"1\" class=\"dataframe\">\n",
       "  <thead>\n",
       "    <tr style=\"text-align: right;\">\n",
       "      <th></th>\n",
       "      <th></th>\n",
       "      <th>aliases</th>\n",
       "      <th>dtype</th>\n",
       "      <th>name</th>\n",
       "      <th>nodata</th>\n",
       "      <th>units</th>\n",
       "    </tr>\n",
       "    <tr>\n",
       "      <th>product</th>\n",
       "      <th>measurement</th>\n",
       "      <th></th>\n",
       "      <th></th>\n",
       "      <th></th>\n",
       "      <th></th>\n",
       "      <th></th>\n",
       "    </tr>\n",
       "  </thead>\n",
       "  <tbody>\n",
       "    <tr>\n",
       "      <th>SSMNOISE_Sentinel_1</th>\n",
       "      <th>VV</th>\n",
       "      <td>[band_1, band_01, B01, Band1, Band_1]</td>\n",
       "      <td>uint8</td>\n",
       "      <td>VV</td>\n",
       "      <td>255</td>\n",
       "      <td>1</td>\n",
       "    </tr>\n",
       "  </tbody>\n",
       "</table>\n",
       "</div>"
      ],
      "text/plain": [
       "                                                               aliases  dtype  \\\n",
       "product             measurement                                                 \n",
       "SSMNOISE_Sentinel_1 VV           [band_1, band_01, B01, Band1, Band_1]  uint8   \n",
       "\n",
       "                                name  nodata units  \n",
       "product             measurement                     \n",
       "SSMNOISE_Sentinel_1 VV            VV     255     1  "
      ]
     },
     "execution_count": 3,
     "metadata": {},
     "output_type": "execute_result"
    }
   ],
   "source": [
    "measlist = dc.list_measurements()\n",
    "measlist.loc[measlist.index.get_level_values(0) == product]"
   ]
  },
  {
   "cell_type": "code",
   "execution_count": 4,
   "metadata": {},
   "outputs": [],
   "source": [
    "query = {\n",
    "    'lat': (48.00, 48.5),\n",
    "    'lon': (16.0, 16.5),\n",
    "    'time': ('2019-05-01', '2019-05-02')\n",
    "}"
   ]
  },
  {
   "cell_type": "code",
   "execution_count": 5,
   "metadata": {},
   "outputs": [
    {
     "name": "stdout",
     "output_type": "stream",
     "text": [
      "****************************************************************************************************\n",
      "METADATA FIELDS:  ['creation_dt', 'csw_link', 'extent', 'format', 'granule_id', 'grid_spatial', 'id', 'image', 'instrument', 'lineage', 'name', 'orbit', 'platform', 'product_format', 'product_type']\n",
      "****************************************************************************************************\n",
      "METADATA\n",
      "{'creation_dt': '2019-10-30T21:22:05.922659',\n",
      " 'csw_link': 'https://csw-acube.eodc.eu//?service=CSW&version=3.0.0&request=GetRecordById&id=SSM-NOISE_SGRTC01_S1A_IWGRDH1VVD_20190502_050929--_EU500M_E048N012T6&elementSetName=full&outputSchema=http://www.isotc211.org/2005/gmd&outputformat=application/xml',\n",
      " 'extent': {'center_dt': '2019-05-02T05:09:29',\n",
      "            'coord': {'ll': {'lat': 43.90398467125304,\n",
      "                             'lon': 11.080196680386718},\n",
      "                      'lr': {'lat': 44.569285836432314,\n",
      "                             'lon': 18.51004850640466},\n",
      "                      'ul': {'lat': 49.191683241915044,\n",
      "                             'lon': 9.689323063185116},\n",
      "                      'ur': {'lat': 49.9461374261938,\n",
      "                             'lon': 17.903417260598534}},\n",
      "            'from_dt': '2019-05-02T05:09:29',\n",
      "            'to_dt': '2019-05-02T05:09:29'},\n",
      " 'format': {'name': 'GeoTIFF'},\n",
      " 'granule_id': 'None',\n",
      " 'grid_spatial': {'projection': {'geo_ref_points': {'ll': {'x': 4800000,\n",
      "                                                           'y': 1200000},\n",
      "                                                    'lr': {'x': 5400000,\n",
      "                                                           'y': 1200000},\n",
      "                                                    'ul': {'x': 4800000,\n",
      "                                                           'y': 1800000},\n",
      "                                                    'ur': {'x': 5400000,\n",
      "                                                           'y': 1800000}},\n",
      "                                 'spatial_reference': 'PROJCS[\"Azimuthal_Equidistant\",GEOGCS[\"GCS_WGS_1984\",DATUM[\"D_WGS_1984\",SPHEROID[\"WGS_1984\",6378137.0,298.257223563]],PRIMEM[\"Greenwich\",0.0],UNIT[\"Degree\",0.0174532925199433]],PROJECTION[\"Azimuthal_Equidistant\"],PARAMETER[\"false_easting\",5837287.81977],PARAMETER[\"false_northing\",2121415.69617],PARAMETER[\"central_meridian\",24.0],PARAMETER[\"latitude_of_origin\",53.0],UNIT[\"Meter\",1.0]]'}},\n",
      " 'id': '95f71a4a-6b85-47a6-b6a4-fd418c3e22c4',\n",
      " 'image': {'bands': {'VV': {'layer': 1,\n",
      "                            'path': '/eodc/products/ADatacube/Sentinel-1_CSAR/IWGRDH/products/datasets/ssm/C0103/EQUI7_EU500M/E048N012T6/ssm-noise/SSM-NOISE_SGRTC01_S1A_IWGRDH1VVD_20190502_050929--_EU500M_E048N012T6.tif'}},\n",
      "           'measurement_mode': 'IW',\n",
      "           'resolution_class': 'None'},\n",
      " 'instrument': {'name': 'SAR'},\n",
      " 'lineage': {'source_datasets': {}},\n",
      " 'name': 'SSMNOISE_Sentinel_1',\n",
      " 'orbit': {'direction': 'None', 'relative_number': '22'},\n",
      " 'platform': {'code': 'Sentinel-1', 'number': 'A'},\n",
      " 'product_format': '{SAFE_COMPACT}',\n",
      " 'product_type': 'TUW_SSM-NOISE_S1'}\n",
      "****************************************************************************************************\n",
      "****************************************************************************************************\n",
      "METADATA FIELDS:  ['creation_dt', 'csw_link', 'extent', 'format', 'granule_id', 'grid_spatial', 'id', 'image', 'instrument', 'lineage', 'name', 'orbit', 'platform', 'product_format', 'product_type']\n",
      "****************************************************************************************************\n",
      "METADATA\n",
      "{'creation_dt': '2019-10-30T21:22:09.496711',\n",
      " 'csw_link': 'https://csw-acube.eodc.eu//?service=CSW&version=3.0.0&request=GetRecordById&id=SSM-NOISE_SGRTC01_S1B_IWGRDH1VVA_20190502_170612--_EU500M_E048N012T6&elementSetName=full&outputSchema=http://www.isotc211.org/2005/gmd&outputformat=application/xml',\n",
      " 'extent': {'center_dt': '2019-05-02T17:06:12',\n",
      "            'coord': {'ll': {'lat': 43.90398467125304,\n",
      "                             'lon': 11.080196680386718},\n",
      "                      'lr': {'lat': 44.569285836432314,\n",
      "                             'lon': 18.51004850640466},\n",
      "                      'ul': {'lat': 49.191683241915044,\n",
      "                             'lon': 9.689323063185116},\n",
      "                      'ur': {'lat': 49.9461374261938,\n",
      "                             'lon': 17.903417260598534}},\n",
      "            'from_dt': '2019-05-02T17:06:12',\n",
      "            'to_dt': '2019-05-02T17:06:12'},\n",
      " 'format': {'name': 'GeoTIFF'},\n",
      " 'granule_id': 'None',\n",
      " 'grid_spatial': {'projection': {'geo_ref_points': {'ll': {'x': 4800000,\n",
      "                                                           'y': 1200000},\n",
      "                                                    'lr': {'x': 5400000,\n",
      "                                                           'y': 1200000},\n",
      "                                                    'ul': {'x': 4800000,\n",
      "                                                           'y': 1800000},\n",
      "                                                    'ur': {'x': 5400000,\n",
      "                                                           'y': 1800000}},\n",
      "                                 'spatial_reference': 'PROJCS[\"Azimuthal_Equidistant\",GEOGCS[\"GCS_WGS_1984\",DATUM[\"D_WGS_1984\",SPHEROID[\"WGS_1984\",6378137.0,298.257223563]],PRIMEM[\"Greenwich\",0.0],UNIT[\"Degree\",0.0174532925199433]],PROJECTION[\"Azimuthal_Equidistant\"],PARAMETER[\"false_easting\",5837287.81977],PARAMETER[\"false_northing\",2121415.69617],PARAMETER[\"central_meridian\",24.0],PARAMETER[\"latitude_of_origin\",53.0],UNIT[\"Meter\",1.0]]'}},\n",
      " 'id': 'ebd3b975-fe46-4647-a605-720476595819',\n",
      " 'image': {'bands': {'VV': {'layer': 1,\n",
      "                            'path': '/eodc/products/ADatacube/Sentinel-1_CSAR/IWGRDH/products/datasets/ssm/C0103/EQUI7_EU500M/E048N012T6/ssm-noise/SSM-NOISE_SGRTC01_S1B_IWGRDH1VVA_20190502_170612--_EU500M_E048N012T6.tif'}},\n",
      "           'measurement_mode': 'IW',\n",
      "           'resolution_class': 'None'},\n",
      " 'instrument': {'name': 'SAR'},\n",
      " 'lineage': {'source_datasets': {}},\n",
      " 'name': 'SSMNOISE_Sentinel_1',\n",
      " 'orbit': {'direction': 'None', 'relative_number': '117'},\n",
      " 'platform': {'code': 'Sentinel-1', 'number': 'B'},\n",
      " 'product_format': '{SAFE_COMPACT}',\n",
      " 'product_type': 'TUW_SSM-NOISE_S1'}\n",
      "****************************************************************************************************\n"
     ]
    }
   ],
   "source": [
    "for dataset in dc.find_datasets_lazy(product=product, **query):\n",
    "    print(100*'*')\n",
    "    print('METADATA FIELDS: ', sorted(list(dataset.metadata_doc.keys())))\n",
    "    print(100*'*')\n",
    "    print('METADATA')\n",
    "    pprint(dataset.metadata_doc)\n",
    "    print(100*'*')"
   ]
  },
  {
   "cell_type": "markdown",
   "metadata": {},
   "source": [
    "## Querying and displaying the data"
   ]
  },
  {
   "cell_type": "code",
   "execution_count": 6,
   "metadata": {},
   "outputs": [
    {
     "data": {
      "text/plain": [
       "<xarray.Dataset>\n",
       "Dimensions:  (time: 2, x: 3803, y: 5619)\n",
       "Coordinates:\n",
       "  * time     (time) datetime64[ns] 2019-05-02T05:09:29 2019-05-02T17:06:12\n",
       "  * y        (y) float64 5.373e+06 5.373e+06 5.373e+06 ... 5.317e+06 5.317e+06\n",
       "  * x        (x) float64 5.739e+05 5.739e+05 5.739e+05 ... 6.119e+05 6.119e+05\n",
       "Data variables:\n",
       "    VV       (time, y, x) uint8 15 15 15 15 15 15 15 ... 255 255 255 255 255 255\n",
       "Attributes:\n",
       "    crs:      EPSG:32633"
      ]
     },
     "execution_count": 6,
     "metadata": {},
     "output_type": "execute_result"
    }
   ],
   "source": [
    "data = dc.load(product=product, \n",
    "               output_crs='EPSG:32633', \n",
    "               resolution=(-10,10),\n",
    "                **query)\n",
    "data"
   ]
  },
  {
   "cell_type": "code",
   "execution_count": 7,
   "metadata": {},
   "outputs": [
    {
     "data": {
      "text/plain": [
       "<xarray.plot.facetgrid.FacetGrid at 0x7fef4f06d6a0>"
      ]
     },
     "execution_count": 7,
     "metadata": {},
     "output_type": "execute_result"
    },
    {
     "data": {
      "image/png": "[encoded data removed]",
      "text/plain": [
       "<Figure size 1512x720 with 3 Axes>"
      ]
     },
     "metadata": {
      "needs_background": "light"
     },
     "output_type": "display_data"
    }
   ],
   "source": [
    "data.VV.plot.imshow(\n",
    "    x=data.crs.dimensions[1], \n",
    "    y=data.crs.dimensions[0],\n",
    "    col='time',\n",
    "    size=10,\n",
    "    col_wrap=2,\n",
    "    cmap='coolwarm'\n",
    ")"
   ]
  }
 ],
 "metadata": {
  "kernelspec": {
   "display_name": "Datacube [conda env:datacube]",
   "language": "python",
   "name": "conda-env-datacube-py"
  },
  "language_info": {
   "codemirror_mode": {
    "name": "ipython",
    "version": 3
   },
   "file_extension": ".py",
   "mimetype": "text/x-python",
   "name": "python",
   "nbconvert_exporter": "python",
   "pygments_lexer": "ipython3",
   "version": "3.6.7"
  }
 },
 "nbformat": 4,
 "nbformat_minor": 2
}
